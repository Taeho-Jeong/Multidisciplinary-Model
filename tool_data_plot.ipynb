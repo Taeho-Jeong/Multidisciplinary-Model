{
 "cells": [
  {
   "cell_type": "code",
   "execution_count": null,
   "id": "224b4189",
   "metadata": {},
   "outputs": [],
   "source": [
    "import os\n",
    "import numpy as np\n",
    "import pandas as pd\n",
    "from matplotlib import pyplot as plt\n",
    "import ipywidgets as widgets"
   ]
  },
  {
   "cell_type": "code",
   "execution_count": null,
   "id": "2c2e3004",
   "metadata": {},
   "outputs": [],
   "source": [
    "# Load Result Data\n",
    "loc_R = 'Data_Output/Results.csv'\n",
    "df_result = pd.read_csv(loc_R)\n",
    "\n",
    "# Parse Result Data\n",
    "ns_data = df_result.iloc[:, 0]\n",
    "yc_data = df_result.iloc[:, 1]\n",
    "ys_data = df_result.iloc[:, 2]     \n",
    "ep_data = df_result.iloc[:, 3]\n",
    "\n",
    "# Load Animal Agriculture Data\n",
    "loc_AA = 'Data_Input/animal_agriculture_data/IFEW_Counties_1997_2019.csv'\n",
    "df_AA = pd.read_csv(loc_AA) # Animal Agricultural dataframe\n",
    "\n",
    "# Parse Animal Agricultural Data\n",
    "yc_real = df_AA[\"CornGrainYield_bupacre\"]\n",
    "ys_real = df_AA[\"SoybeansYield_bupacre\"]\n",
    "\n",
    "years = pd.Series(range(1997, 2020))\n",
    "\n",
    "# Load Energy Validation Data\n",
    "loc_NRG = 'Data_Validation/Iowa Historical Ethanol and Biodiesel Production EIA.csv'\n",
    "df_AA = pd.read_csv(loc_NRG)\n",
    "\n",
    "# Parse Energy Validation Data\n",
    "val_nrg_yr = df_AA[\"Year\"]\n",
    "val_nrg_bd = df_AA[\"BDPRP\"] * 42 / 1e6 # Thousand of Barrels to MGal\n",
    "val_nrg_ep = df_AA[\"ENPRP\"] * 42 / 1e6 # Thousand of Barrels to MGal\n",
    "tot_ep = np.zeros(len(years))\n",
    "\n",
    "# Define Dropdown Widget\n",
    "county_dropdown = widgets.Dropdown(\n",
    "    options=[('Adair', 1), ('Adams', 2), ('Allamakee', 3), ('Appanoose', 4), ('Audubon', 5), ('Benton', 6), ('Black Hawk', 7), ('Boone', 8), ('Bremer', 9), ('Buchanan', 10), ('Buena Vista', 11), ('Butler', 12), ('Calhoun', 13), ('Carroll', 14), ('Cass', 15), ('Cedar', 16), ('Cerro Gordo', 17), ('Cherokee', 18), ('Chickasaw', 19), ('Clarke', 20), ('Clay', 21), ('Clayton', 22), ('Clinton', 23), ('Crawford', 24), ('Dallas', 25), ('Davis', 26), ('Decatur', 27), ('Delaware', 28), ('Des Moines', 29), ('Dickinson', 30), ('Dubuque', 31), ('Emmet', 32), ('Fayette', 33), ('Floyd', 34), ('Franklin', 35), ('Fremont', 36), ('Greene', 37), ('Grundy', 38), ('Guthrie', 39), ('Hamilton', 40), ('Hancock', 41), ('Hardin', 42), ('Harrison', 43), ('Henry', 44), ('Howard', 45), ('Humboldt', 46), ('Ida', 47), ('Iowa', 48), ('Jackson', 49), ('Jasper', 50), ('Jefferson', 51), ('Johnson', 52), ('Jones', 53), ('Keokuk', 54), ('Kossuth', 55), ('Lee', 56), ('Linn', 57), ('Louisa', 58), ('Lucas', 59), ('Lyon', 60), ('Madison', 61), ('Mahaska', 62), ('Marion', 63), ('Marshall', 64), ('Mills', 65), ('Mitchell', 66), ('Monona', 67), ('Monroe', 68), ('Montgomery', 69), ('Muscatine', 70), ('Obrien', 71), ('Osceola', 72), ('Page', 73), ('Palo Alto', 74), ('Plymouth', 75), ('Pocahontas', 76), ('Polk', 77), ('Pottawattamie', 78), ('Poweshiek', 79), ('Ringgold', 80), ('Sac', 81), ('Scott', 82), ('Shelby', 83), ('Sioux', 84), ('Story', 85), ('Tama', 86), ('Taylor', 87), ('Union', 88), ('Van Buren', 89), ('Wapello', 90), ('Warren', 91), ('Washington', 92), ('Wayne', 93), ('Webster', 94), ('Winnebago', 95), ('Winneshiek', 96), ('Woodbury', 97), ('Worth', 98), ('Wright', 99)],\n",
    "    description='County:',\n",
    "    disabled = False)"
   ]
  },
  {
   "cell_type": "markdown",
   "id": "ccc574e5",
   "metadata": {},
   "source": [
    "### Ethanol Validation"
   ]
  },
  {
   "cell_type": "code",
   "execution_count": null,
   "id": "bcbac2d9",
   "metadata": {},
   "outputs": [],
   "source": [
    "# Creates Directory\n",
    "if not os.path.exists(\"Figures\"):\n",
    "    os.mkdir(\"Figures\")\n",
    "if not os.path.exists(\"Figures/Validation\"):\n",
    "    os.mkdir(\"Figures/Validation\")\n",
    "    \n",
    "for year in years:\n",
    "    i = year - 1997\n",
    "    values = ep_data.iloc[range(i, len(ep_data), 23)]\n",
    "    tot_ep[i] = np.sum(values) / 1e9 # Convert to MGal\n",
    "\n",
    "fig0, ax0 = plt.subplots(figsize=(10,6))\n",
    "plt.style.use('ggplot')\n",
    "ax0.plot(years, tot_ep, \"C0o-\")\n",
    "ax0.plot(val_nrg_yr.iloc[range(val_nrg_yr[val_nrg_yr == 1997].index.values[0], val_nrg_yr[val_nrg_yr == 2020].index.values[0])], val_nrg_ep.iloc[range(val_nrg_yr[val_nrg_yr == 1997].index.values[0], val_nrg_yr[val_nrg_yr == 2020].index.values[0])], \"C1o-\")\n",
    "ax0.axvline(x = 2009, color = \"black\")\n",
    "# Plot Labels\n",
    "ax0.set_title(\"Ethanol Production Validation\")\n",
    "ax0.set_xlabel(\"Years\")\n",
    "ax0.set_ylabel(\"Ethanol Production [GGal]\")\n",
    "ax0.legend([\"Model Output\", \"Real Data\", \"New Bill\"], loc =\"best\")\n",
    "\n",
    "ax0.grid(True)"
   ]
  },
  {
   "cell_type": "markdown",
   "id": "23115154",
   "metadata": {},
   "source": [
    "#### Save Figure"
   ]
  },
  {
   "cell_type": "code",
   "execution_count": null,
   "id": "6e6a1299",
   "metadata": {},
   "outputs": [],
   "source": [
    "fig_name = \"Figures/Validation/Ethanol Production.png\"\n",
    "fig0.savefig(fig_name, dpi = 300)"
   ]
  },
  {
   "cell_type": "markdown",
   "id": "3e47f8be",
   "metadata": {},
   "source": [
    "### County Data Plots"
   ]
  },
  {
   "cell_type": "code",
   "execution_count": null,
   "id": "4623a3e2",
   "metadata": {},
   "outputs": [],
   "source": [
    "def plot_function(county_no):\n",
    "\n",
    "    fig1 = plt.figure(figsize =(10, 5))\n",
    "    plt.style.use('ggplot')\n",
    "    # Model Outputs\n",
    "    plt.plot(years, ns_data.iloc[(county_no - 1) * 23 : 23 + (county_no - 1) * 23], 'C0o')\n",
    "    # # Regression Line - Polyfit\n",
    "    # rl_coeffs = np.polyfit(years, ns_data.iloc[(county_no - 1) * 23 : 23 + (county_no - 1) * 23], 3)\n",
    "    # rl_eq = np.poly1d(rl_coeffs)\n",
    "    # rl_x = np.linspace(1997, 2019, 100)\n",
    "    # rl_y = rl_eq(rl_x)\n",
    "    # plt.plot(rl_x, rl_y, 'C1.-')\n",
    "    # Plot Labels\n",
    "    plt.title(\"Modelled Nitrogen Surplus Trend\")\n",
    "    plt.xlabel(\"Years\")\n",
    "    plt.ylabel(\"Nitrogen Surplus (kg/ha)\")\n",
    "    # plt.legend([\"Model Output\", \"Regression Fit\"], loc =\"best\")\n",
    "    plt.grid(True)\n",
    "    plt.show()\n",
    "    \n",
    "    fig2 = plt.figure(figsize =(10, 5))\n",
    "    plt.style.use('ggplot')\n",
    "    # Model Outputs\n",
    "    plt.plot(years, yc_data.iloc[(county_no - 1) * 23 : 23 + (county_no - 1) * 23], 'C0.-')\n",
    "    # Real Data\n",
    "    plt.plot(years, yc_real.iloc[(county_no - 1) * 23 : 23 + (county_no - 1) * 23], 'C1.-')\n",
    "    # Plot Labels\n",
    "    plt.title(\"Modelled Corn Yield Trend\")\n",
    "    plt.xlabel(\"Years\")\n",
    "    plt.ylabel(\"Corn Yield (bu/acre)\")\n",
    "    plt.legend([\"Model Output\", \"Real Data\"], loc =\"best\")\n",
    "    plt.grid(True)\n",
    "    plt.show()\n",
    "    \n",
    "    fig3 = plt.figure(figsize =(10, 5))\n",
    "    plt.style.use('ggplot')\n",
    "    # Scatter - Model Outputs\n",
    "    plt.plot(years, ys_data.iloc[(county_no - 1) * 23 : 23 + (county_no - 1) * 23], 'C0.-')\n",
    "    # Real Data\n",
    "    plt.plot(years, ys_real.iloc[(county_no - 1) * 23 : 23 + (county_no - 1) * 23], 'C1.-')\n",
    "    # Plot Labels\n",
    "    plt.title(\"Modelled Soybean Yield Trend\")\n",
    "    plt.xlabel(\"Years\")\n",
    "    plt.ylabel(\"Soybean Yield (bu/acre)\")\n",
    "    plt.legend([\"Model Output\", \"Real Data\"], loc =\"best\") \n",
    "    plt.grid(True)\n",
    "    plt.show()"
   ]
  },
  {
   "cell_type": "markdown",
   "id": "39f3d90c",
   "metadata": {},
   "source": [
    "### Interactive Widget"
   ]
  },
  {
   "cell_type": "code",
   "execution_count": null,
   "id": "cd89a19d",
   "metadata": {},
   "outputs": [],
   "source": [
    "widgets.interact(plot_function, county_no = county_dropdown)"
   ]
  }
 ],
 "metadata": {
  "kernelspec": {
   "display_name": "Python 3 (ipykernel)",
   "language": "python",
   "name": "python3"
  },
  "language_info": {
   "codemirror_mode": {
    "name": "ipython",
    "version": 3
   },
   "file_extension": ".py",
   "mimetype": "text/x-python",
   "name": "python",
   "nbconvert_exporter": "python",
   "pygments_lexer": "ipython3",
   "version": "3.9.16"
  }
 },
 "nbformat": 4,
 "nbformat_minor": 5
}
